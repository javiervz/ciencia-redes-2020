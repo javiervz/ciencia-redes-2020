{
 "cells": [
  {
   "cell_type": "markdown",
   "metadata": {},
   "source": [
    "# Grafos libres de escala :)\n",
    "dudas y reclamos a javier.vera@pucv.cl"
   ]
  },
  {
   "cell_type": "markdown",
   "metadata": {},
   "source": [
    "En este mini notebook ahondaremos en cómo describir propiedades de **scale free** en grafos estudiados por los profesores :)"
   ]
  },
  {
   "cell_type": "markdown",
   "metadata": {},
   "source": [
    "### Primero, leemos datos!!!"
   ]
  },
  {
   "cell_type": "code",
   "execution_count": 1,
   "metadata": {},
   "outputs": [],
   "source": [
    "## librerias\n",
    "import networkx as nx\n",
    "import operator\n",
    "import itertools\n",
    "from nltk import sent_tokenize\n",
    "from nltk import word_tokenize\n",
    "import matplotlib.pyplot as plt\n",
    "import numpy as np\n",
    "import xml.etree.ElementTree as ET\n",
    "import pickle"
   ]
  },
  {
   "cell_type": "code",
   "execution_count": 2,
   "metadata": {},
   "outputs": [],
   "source": [
    "## función para extraer texto!\n",
    "\n",
    "def extract_bible_text(lang):\n",
    "    root = ET.fromstring(open(lang + '.xml').read())\n",
    "    with open(lang + '.txt', 'w', encoding='utf-8') as out:\n",
    "        for n in root.iter('seg'):\n",
    "            try:\n",
    "                out.write(n.text.strip() + '\\n')\n",
    "            except AttributeError:\n",
    "                pass\n",
    "    file = open(lang+'.txt', 'r') \n",
    "    bible=file.read().split('\\n')\n",
    "    #bible=[item for sublist in bible for item in sublist]\n",
    "    return bible"
   ]
  },
  {
   "cell_type": "code",
   "execution_count": 3,
   "metadata": {},
   "outputs": [],
   "source": [
    "## nuevo testamento!!!\n",
    "\n",
    "books_NT=['b.MAT','b.MAR','b.LUK','b.JOH','b.ACT','b.ROM','b.1CO','b.2CO','b.GAL','b.EPH','b.PHI','b.COL',\n",
    "          'b.1TH','b.2TH','b.1TI','b.2TI','b.TIT','b.PHM','b.HEB','b.JAM','b.1PE','b.2PE','b.1JO','b.2JO',\n",
    "          'b.3JO','b.JUD','b.REV']\n",
    "\n",
    "def new_testament(lang):\n",
    "    root = ET.fromstring(open(lang + '.xml').read())\n",
    "    NT=[]\n",
    "    for book in books_NT:\n",
    "        with open(lang + '-' + book + '.txt', 'w', encoding='utf-8') as out:\n",
    "            for n in root.findall('.//div[@id=\"'+book+'\"]/*seg'):\n",
    "                out.write(n.text.strip() + '\\n')\n",
    "        file = open(lang + '-' + book + '.txt', 'r') \n",
    "        book_text=file.read().split('\\n')\n",
    "        NT+=book_text\n",
    "    \n",
    "    return NT"
   ]
  },
  {
   "cell_type": "code",
   "execution_count": 4,
   "metadata": {},
   "outputs": [],
   "source": [
    "# language names \n",
    "language_names = ['Achuar-NT','Aguaruna-NT','Akawaio-NT','Amuzgo-NT','Cabecar-NT','Cakchiquel-NT','Cherokee-NT',\n",
    "                  'Chinantec-NT','English','Jakalteko-NT','Kiche-NT','Mam-NT','Nahuatl-NT','Ojibwa-NT','Qeqchi','Quichua-NT',\n",
    "                  'Shuar-NT','Spanish','Uspanteco-NT']"
   ]
  },
  {
   "cell_type": "code",
   "execution_count": 5,
   "metadata": {},
   "outputs": [
    {
     "name": "stdout",
     "output_type": "stream",
     "text": [
      "Qeqchi\n"
     ]
    }
   ],
   "source": [
    "languages = {}\n",
    "for language in language_names:\n",
    "    try:\n",
    "        if language=='Spanish':\n",
    "            languages[language]=new_testament(language)\n",
    "        elif language=='English':\n",
    "            languages[language]=new_testament(language)\n",
    "        elif language=='Qeqchi':\n",
    "            languages[language]=new_testament(language)\n",
    "        else:\n",
    "            languages[language.replace('-NT','')]=extract_bible_text(language)#' '.join(extract_bible_text(language))\n",
    "    except:\n",
    "        print(language)"
   ]
  },
  {
   "cell_type": "code",
   "execution_count": 6,
   "metadata": {},
   "outputs": [
    {
     "name": "stdout",
     "output_type": "stream",
     "text": [
      "Achuar Ju papikia Jesucristo pachisar aarmawaitai. Jesucristo Davidta weari ayayi. Tura Davidcha Abrahama weari ayayi. Tura Abrahama weari ainau, tura Davidta weari ainau naaringkia ju papinum aarmawaitai.\n",
      "Aguaruna Ju ainawai Jisukristu muunji aajakajua nuna daaji agatkamua duka. Nigka David, Abraham aina nu wegantu aajakuí.\n",
      "Akawaio Serɨ serɨ Sises tamokori ton ese' asi', kin pe te'sen Tepi' pa pe iyesi'pʉ, Epʉra'an pa pe nɨrɨ kanan iyesi'pʉ.\n",
      "Amuzgo Luaa ñˈoom na matseijndaaˈñenaˈ tsjaaⁿ nnˈaⁿ na tuiiñe Jesucristo, na wjaacˈoomnaˈ David ñequio Abraham na jndyowicantyjooˈ joona na tueˈcañoomnaˈ jom.\n",
      "Cabecar Jesucristo David yäbei, Abraham yäbei, je wätsikiwa̱k wa kie äyëí yöle rä jikäi:\n",
      "Cakchiquel Re wuj ri nuchop el waweˈ, jun wuj ri tzˈibatal wi ca ri quibiˈ ri ye ojer tak ratiˈt rumamaˈ ri Jesucristo. Can nikˈalajin wi cˈa chi Riyaˈ can jun chique ri ye ralcˈual ca ri rey David, y can ralcˈual ca chukaˈ ri Abraham.\n",
      "Cherokee ᎯᎠ ᎪᏪᎵ ᎧᏃᎮᎭ ᏧᏁᏢᏔᏅᏒ ᏥᏌ ᎦᎶᏁᏛ, ᏕᏫ ᎤᏪᏥ, ᎡᏆᎭᎻ ᎤᏪᏥ.\n",
      "Chinantec I̱ lab jaléngˈˋ ˈlɨɨ˜ yʉ́ʉˈ˜ quiáˈˉ Dseaˋ Jmáangˉ i̱ lɨ́ɨngˊ sɨju̱ˇ ˈlɨɨ˜ yʉ́ʉˈ˜ dseata˜ Davíˈˆ có̱o̱ˈ˜guɨ ˈlɨɨ˜ yʉ́ʉˈ˜ Abraham.\n",
      "English The book of the generation of Jesus Christ, the son of David, the son of Abraham.\n",
      "Jakalteko Haˈ icham Abraham yeb naj rey David, haˈ yichmam Comam Jesucristo. Hac tiˈ ye istxolal yichmam Comam hacaˈ tiˈ:\n",
      "Kiche Wuj rech ri umajibʼal uloq ri Jesus Kristo, ukʼojol ri David, ukʼojol ri Abʼraham.\n",
      "Mam Atzin te luˈn atzin tajlal t‑xeˈchil Jesucrist, a tzajnin tiˈj qtzan David ex tiˈj qtzan Abraham:\n",
      "Nahuatl In se tocayomej de itajhuehuentzitzihuan Jesucristo yejhuan teicniu itech David niman Abraham.\n",
      "Ojibwa ᒦᑕᔥ ᐅᐅᐌ ᐁᔑᐲᐃᑳᑌᓂᒃ ᐋᓃᑎ ᒋᓴᔅ X ᑳᐱᐅᒋ ᓂᑖᐎᑭᒡ, ᒦ ᐊᐌ ᑳᐅᑕᑳᓀᓯᒡ ᑌᐱᑎᕽ, ᑫᐐᓐ ᐁᑮᐅᑕᑳᓀᓯᓂᒡ ᐁᐸᕒᐊᐋᒥᕽ ᙮\n",
      "Quichua Jesucristo aillu quillca, Davidmanda mirai, David Abrahanmanda mirai.\n",
      "Shuar Jesukrístu Weatrí ju ainiawai. Tura Ashí nankaamas ti uunt weat Tawitcha Apraámsha ainiawai.\n",
      "Spanish Libro de la genealogía de Jesucristo, hijo de David, hijo de Abraham\n",
      "Uspanteco Riˈ ri jbˈijak yak jmam Kakaj Jesucristo ri rijajl David y Abraham.\n"
     ]
    }
   ],
   "source": [
    "for language in languages.keys():\n",
    "    print(language, languages[language][0])"
   ]
  },
  {
   "cell_type": "markdown",
   "metadata": {},
   "source": [
    "### Segundo, algo de NLP"
   ]
  },
  {
   "cell_type": "code",
   "execution_count": 7,
   "metadata": {},
   "outputs": [],
   "source": [
    "def clean(language):\n",
    "    table = str.maketrans({key: None for key in '!\"#$%&\\¿()*+,-./:;<=>?@[\\\\]_{|}'})\n",
    "    language=[list(filter(None, [w.lower().translate(table) for w in word_tokenize(sentence)])) for sentence in language if len([w.lower() for w in [w.translate(table) for w in word_tokenize(sentence)]])>0]\n",
    "    return language"
   ]
  },
  {
   "cell_type": "code",
   "execution_count": 8,
   "metadata": {},
   "outputs": [
    {
     "name": "stderr",
     "output_type": "stream",
     "text": [
      "[nltk_data] Downloading package punkt to /home/ec2-user/nltk_data...\n",
      "[nltk_data]   Package punkt is already up-to-date!\n"
     ]
    },
    {
     "data": {
      "text/plain": [
       "True"
      ]
     },
     "execution_count": 8,
     "metadata": {},
     "output_type": "execute_result"
    }
   ],
   "source": [
    "import nltk\n",
    "nltk.download('punkt')"
   ]
  },
  {
   "cell_type": "code",
   "execution_count": 9,
   "metadata": {},
   "outputs": [
    {
     "name": "stdout",
     "output_type": "stream",
     "text": [
      "Achuar\n",
      "Aguaruna\n",
      "Akawaio\n",
      "Amuzgo\n",
      "Cabecar\n",
      "Cakchiquel\n",
      "Cherokee\n",
      "Chinantec\n",
      "English\n",
      "Jakalteko\n",
      "Kiche\n",
      "Mam\n",
      "Nahuatl\n",
      "Ojibwa\n",
      "Quichua\n",
      "Shuar\n",
      "Spanish\n",
      "Uspanteco\n"
     ]
    }
   ],
   "source": [
    "for language in languages.keys():\n",
    "    print(language)\n",
    "    languages[language]=clean(languages[language])"
   ]
  },
  {
   "cell_type": "code",
   "execution_count": 10,
   "metadata": {},
   "outputs": [
    {
     "name": "stdout",
     "output_type": "stream",
     "text": [
      "18\n"
     ]
    }
   ],
   "source": [
    "print(len(languages))"
   ]
  },
  {
   "cell_type": "code",
   "execution_count": 11,
   "metadata": {},
   "outputs": [
    {
     "name": "stdout",
     "output_type": "stream",
     "text": [
      "Achuar ['ju', 'papikia', 'jesucristo', 'pachisar', 'aarmawaitai', 'jesucristo', 'davidta', 'weari', 'ayayi', 'tura', 'davidcha', 'abrahama', 'weari', 'ayayi', 'tura', 'abrahama', 'weari', 'ainau', 'tura', 'davidta', 'weari', 'ainau', 'naaringkia', 'ju', 'papinum', 'aarmawaitai']\n",
      "Aguaruna ['ju', 'ainawai', 'jisukristu', 'muunji', 'aajakajua', 'nuna', 'daaji', 'agatkamua', 'duka', 'nigka', 'david', 'abraham', 'aina', 'nu', 'wegantu', 'aajakuí']\n",
      "Akawaio ['serɨ', 'serɨ', 'sises', 'tamokori', 'ton', 'ese', \"'\", 'asi', \"'\", 'kin', 'pe', \"te'sen\", 'tepi', \"'\", 'pa', 'pe', \"iyesi'pʉ\", \"epʉra'an\", 'pa', 'pe', 'nɨrɨ', 'kanan', \"iyesi'pʉ\"]\n",
      "Amuzgo ['luaa', 'ñˈoom', 'na', 'matseijndaaˈñenaˈ', 'tsjaaⁿ', 'nnˈaⁿ', 'na', 'tuiiñe', 'jesucristo', 'na', 'wjaacˈoomnaˈ', 'david', 'ñequio', 'abraham', 'na', 'jndyowicantyjooˈ', 'joona', 'na', 'tueˈcañoomnaˈ', 'jom']\n",
      "Cabecar ['jesucristo', 'david', 'yäbei', 'abraham', 'yäbei', 'je', 'wätsikiwa̱k', 'wa', 'kie', 'äyëí', 'yöle', 'rä', 'jikäi']\n",
      "Cakchiquel ['re', 'wuj', 'ri', 'nuchop', 'el', 'waweˈ', 'jun', 'wuj', 'ri', 'tzˈibatal', 'wi', 'ca', 'ri', 'quibiˈ', 'ri', 'ye', 'ojer', 'tak', 'ratiˈt', 'rumamaˈ', 'ri', 'jesucristo', 'can', 'nikˈalajin', 'wi', 'cˈa', 'chi', 'riyaˈ', 'can', 'jun', 'chique', 'ri', 'ye', 'ralcˈual', 'ca', 'ri', 'rey', 'david', 'y', 'can', 'ralcˈual', 'ca', 'chukaˈ', 'ri', 'abraham']\n",
      "Cherokee ['ꭿꭰ', 'ꭺꮺꮅ', 'ꭷꮓꭾꭽ', 'ꮷꮑꮲꮤꮕꮢ', 'ꮵꮜ', 'ꭶꮆꮑꮫ', 'ꮥꮻ', 'ꭴꮺꮵ', 'ꭱꮖꭽꮋ', 'ꭴꮺꮵ']\n",
      "Chinantec ['i̱', 'lab', 'jaléngˈˋ', 'ˈlɨɨ˜', 'yʉ́ʉˈ˜', 'quiáˈˉ', 'dseaˋ', 'jmáangˉ', 'i̱', 'lɨ́ɨngˊ', 'sɨju̱ˇ', 'ˈlɨɨ˜', 'yʉ́ʉˈ˜', 'dseata˜', 'davíˈˆ', 'có̱o̱ˈ˜guɨ', 'ˈlɨɨ˜', 'yʉ́ʉˈ˜', 'abraham']\n",
      "English ['the', 'book', 'of', 'the', 'generation', 'of', 'jesus', 'christ', 'the', 'son', 'of', 'david', 'the', 'son', 'of', 'abraham']\n",
      "Jakalteko ['haˈ', 'icham', 'abraham', 'yeb', 'naj', 'rey', 'david', 'haˈ', 'yichmam', 'comam', 'jesucristo', 'hac', 'tiˈ', 'ye', 'istxolal', 'yichmam', 'comam', 'hacaˈ', 'tiˈ']\n",
      "Kiche ['wuj', 'rech', 'ri', 'umajibʼal', 'uloq', 'ri', 'jesus', 'kristo', 'ukʼojol', 'ri', 'david', 'ukʼojol', 'ri', 'abʼraham']\n",
      "Mam ['atzin', 'te', 'luˈn', 'atzin', 'tajlal', 't‑xeˈchil', 'jesucrist', 'a', 'tzajnin', 'tiˈj', 'qtzan', 'david', 'ex', 'tiˈj', 'qtzan', 'abraham']\n",
      "Nahuatl ['in', 'se', 'tocayomej', 'de', 'itajhuehuentzitzihuan', 'jesucristo', 'yejhuan', 'teicniu', 'itech', 'david', 'niman', 'abraham']\n",
      "Ojibwa ['ᒦᑕᔥ', 'ᐅᐅᐌ', 'ᐁᔑᐲᐃᑳᑌᓂᒃ', 'ᐋᓃᑎ', 'ᒋᓴᔅ', 'x', 'ᑳᐱᐅᒋ', 'ᓂᑖᐎᑭᒡ', 'ᒦ', 'ᐊᐌ', 'ᑳᐅᑕᑳᓀᓯᒡ', 'ᑌᐱᑎᕽ', 'ᑫᐐᓐ', 'ᐁᑮᐅᑕᑳᓀᓯᓂᒡ', 'ᐁᐸᕒᐊᐋᒥᕽ', '᙮']\n",
      "Quichua ['jesucristo', 'aillu', 'quillca', 'davidmanda', 'mirai', 'david', 'abrahanmanda', 'mirai']\n",
      "Shuar ['jesukrístu', 'weatrí', 'ju', 'ainiawai', 'tura', 'ashí', 'nankaamas', 'ti', 'uunt', 'weat', 'tawitcha', 'apraámsha', 'ainiawai']\n",
      "Spanish ['libro', 'de', 'la', 'genealogía', 'de', 'jesucristo', 'hijo', 'de', 'david', 'hijo', 'de', 'abraham']\n",
      "Uspanteco ['riˈ', 'ri', 'jbˈijak', 'yak', 'jmam', 'kakaj', 'jesucristo', 'ri', 'rijajl', 'david', 'y', 'abraham']\n"
     ]
    }
   ],
   "source": [
    "for language in languages.keys():\n",
    "    print(language, languages[language][0])"
   ]
  },
  {
   "cell_type": "markdown",
   "metadata": {},
   "source": [
    "### Tercero, al fin grafos!!!"
   ]
  },
  {
   "cell_type": "code",
   "execution_count": 14,
   "metadata": {},
   "outputs": [],
   "source": [
    "## original networks\n",
    "def GoW_adj(text_clean,language):\n",
    "    G=nx.Graph()\n",
    "    for sentence in text_clean:\n",
    "        if len(sentence)>1:\n",
    "            pairs=list(zip(sentence,sentence[1:]))\n",
    "            for pair in pairs:\n",
    "                if G.has_edge(pair[0],pair[1])==False:\n",
    "                    G.add_edge(pair[0],pair[1],weight=1)\n",
    "                else:\n",
    "                    x=G[pair[0]][pair[1]]['weight']\n",
    "                    G[pair[0]][pair[1]]['weight']=x+1\n",
    "        \n",
    "    return G"
   ]
  },
  {
   "cell_type": "code",
   "execution_count": 16,
   "metadata": {},
   "outputs": [
    {
     "name": "stdout",
     "output_type": "stream",
     "text": [
      "Achuar\n",
      "Aguaruna\n",
      "Akawaio\n",
      "Amuzgo\n",
      "Cabecar\n",
      "Cakchiquel\n",
      "Cherokee\n",
      "Chinantec\n",
      "English\n",
      "Jakalteko\n",
      "Kiche\n",
      "Mam\n",
      "Nahuatl\n",
      "Ojibwa\n",
      "Quichua\n",
      "Shuar\n",
      "Spanish\n",
      "Uspanteco\n"
     ]
    }
   ],
   "source": [
    "graphs_adj={}\n",
    "for language in languages.keys():\n",
    "    print(language)\n",
    "    G=GoW_adj(languages[language],language)\n",
    "    graphs_adj[language]=G"
   ]
  },
  {
   "cell_type": "code",
   "execution_count": 17,
   "metadata": {},
   "outputs": [],
   "source": [
    "pickle.dump(graphs_adj,open('graphs_adj.p','wb'))"
   ]
  },
  {
   "cell_type": "code",
   "execution_count": 18,
   "metadata": {},
   "outputs": [],
   "source": [
    "graphs_adj=pickle.load(open('graphs_adj.p','rb'))"
   ]
  },
  {
   "cell_type": "markdown",
   "metadata": {},
   "source": [
    "### Cuarto, distribuciones de grado!!!"
   ]
  },
  {
   "cell_type": "code",
   "execution_count": null,
   "metadata": {},
   "outputs": [],
   "source": []
  }
 ],
 "metadata": {
  "kernelspec": {
   "display_name": "conda_python3",
   "language": "python",
   "name": "conda_python3"
  },
  "language_info": {
   "codemirror_mode": {
    "name": "ipython",
    "version": 3
   },
   "file_extension": ".py",
   "mimetype": "text/x-python",
   "name": "python",
   "nbconvert_exporter": "python",
   "pygments_lexer": "ipython3",
   "version": "3.6.10"
  }
 },
 "nbformat": 4,
 "nbformat_minor": 4
}
